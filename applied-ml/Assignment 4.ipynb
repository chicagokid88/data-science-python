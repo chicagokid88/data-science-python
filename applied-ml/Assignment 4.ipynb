{
 "cells": [
  {
   "cell_type": "markdown",
   "metadata": {},
   "source": [
    "---\n",
    "\n",
    "_You are currently looking at **version 1.0** of this notebook. To download notebooks and datafiles, as well as get help on Jupyter notebooks in the Coursera platform, visit the [Jupyter Notebook FAQ](https://www.coursera.org/learn/python-machine-learning/resources/bANLa) course resource._\n",
    "\n",
    "---"
   ]
  },
  {
   "cell_type": "markdown",
   "metadata": {},
   "source": [
    "## Assignment 4 - Understanding and Predicting Property Maintenance Fines\n",
    "\n",
    "This assignment is based on a data challenge from the Michigan Data Science Team ([MDST](http://midas.umich.edu/mdst/)). \n",
    "\n",
    "The Michigan Data Science Team ([MDST](http://midas.umich.edu/mdst/)) and the Michigan Student Symposium for Interdisciplinary Statistical Sciences ([MSSISS](https://sites.lsa.umich.edu/mssiss/)) have partnered with the City of Detroit to help solve one of the most pressing problems facing Detroit - blight. [Blight violations](http://www.detroitmi.gov/How-Do-I/Report/Blight-Complaint-FAQs) are issued by the city to individuals who allow their properties to remain in a deteriorated condition. Every year, the city of Detroit issues millions of dollars in fines to residents and every year, many of these fines remain unpaid. Enforcing unpaid blight fines is a costly and tedious process, so the city wants to know: how can we increase blight ticket compliance?\n",
    "\n",
    "The first step in answering this question is understanding when and why a resident might fail to comply with a blight ticket. This is where predictive modeling comes in. For this assignment, your task is to predict whether a given blight ticket will be paid on time.\n",
    "\n",
    "All data for this assignment has been provided to us through the [Detroit Open Data Portal](https://data.detroitmi.gov/). **Only the data already included in your Coursera directory can be used for training the model for this assignment.** Nonetheless, we encourage you to look into data from other Detroit datasets to help inform feature creation and model selection. We recommend taking a look at the following related datasets:\n",
    "\n",
    "* [Building Permits](https://data.detroitmi.gov/Property-Parcels/Building-Permits/xw2a-a7tf)\n",
    "* [Trades Permits](https://data.detroitmi.gov/Property-Parcels/Trades-Permits/635b-dsgv)\n",
    "* [Improve Detroit: Submitted Issues](https://data.detroitmi.gov/Government/Improve-Detroit-Submitted-Issues/fwz3-w3yn)\n",
    "* [DPD: Citizen Complaints](https://data.detroitmi.gov/Public-Safety/DPD-Citizen-Complaints-2016/kahe-efs3)\n",
    "* [Parcel Map](https://data.detroitmi.gov/Property-Parcels/Parcel-Map/fxkw-udwf)\n",
    "\n",
    "___\n",
    "\n",
    "We provide you with two data files for use in training and validating your models: train.csv and test.csv. Each row in these two files corresponds to a single blight ticket, and includes information about when, why, and to whom each ticket was issued. The target variable is compliance, which is True if the ticket was paid early, on time, or within one month of the hearing data, False if the ticket was paid after the hearing date or not at all, and Null if the violator was found not responsible. Compliance, as well as a handful of other variables that will not be available at test-time, are only included in train.csv.\n",
    "\n",
    "Note: All tickets where the violators were found not responsible are not considered during evaluation. They are included in the training set as an additional source of data for visualization, and to enable unsupervised and semi-supervised approaches. However, they are not included in the test set.\n",
    "\n",
    "<br>\n",
    "\n",
    "**File descriptions** (Use only this data for training your model!)\n",
    "\n",
    "    train.csv - the training set (all tickets issued 2004-2011)\n",
    "    test.csv - the test set (all tickets issued 2012-2016)\n",
    "    addresses.csv & latlons.csv - mapping from ticket id to addresses, and from addresses to lat/lon coordinates. \n",
    "     Note: misspelled addresses may be incorrectly geolocated.\n",
    "\n",
    "<br>\n",
    "\n",
    "**Data fields**\n",
    "\n",
    "train.csv & test.csv\n",
    "\n",
    "    ticket_id - unique identifier for tickets\n",
    "    agency_name - Agency that issued the ticket\n",
    "    inspector_name - Name of inspector that issued the ticket\n",
    "    violator_name - Name of the person/organization that the ticket was issued to\n",
    "    violation_street_number, violation_street_name, violation_zip_code - Address where the violation occurred\n",
    "    mailing_address_str_number, mailing_address_str_name, city, state, zip_code, non_us_str_code, country - Mailing address of the violator\n",
    "    ticket_issued_date - Date and time the ticket was issued\n",
    "    hearing_date - Date and time the violator's hearing was scheduled\n",
    "    violation_code, violation_description - Type of violation\n",
    "    disposition - Judgment and judgement type\n",
    "    fine_amount - Violation fine amount, excluding fees\n",
    "    admin_fee - $20 fee assigned to responsible judgments\n",
    "state_fee - $10 fee assigned to responsible judgments\n",
    "    late_fee - 10% fee assigned to responsible judgments\n",
    "    discount_amount - discount applied, if any\n",
    "    clean_up_cost - DPW clean-up or graffiti removal cost\n",
    "    judgment_amount - Sum of all fines and fees\n",
    "    grafitti_status - Flag for graffiti violations\n",
    "    \n",
    "train.csv only\n",
    "\n",
    "    payment_amount - Amount paid, if any\n",
    "    payment_date - Date payment was made, if it was received\n",
    "    payment_status - Current payment status as of Feb 1 2017\n",
    "    balance_due - Fines and fees still owed\n",
    "    collection_status - Flag for payments in collections\n",
    "    compliance [target variable for prediction] \n",
    "     Null = Not responsible\n",
    "     0 = Responsible, non-compliant\n",
    "     1 = Responsible, compliant\n",
    "    compliance_detail - More information on why each ticket was marked compliant or non-compliant\n",
    "\n",
    "\n",
    "___\n",
    "\n",
    "## Evaluation\n",
    "\n",
    "Your predictions will be given as the probability that the corresponding blight ticket will be paid on time.\n",
    "\n",
    "The evaluation metric for this assignment is the Area Under the ROC Curve (AUC). \n",
    "\n",
    "Your grade will be based on the AUC score computed for your classifier. A model which with an AUROC of 0.7 passes this assignment, over 0.75 will recieve full points.\n",
    "___\n",
    "\n",
    "For this assignment, create a function that trains a model to predict blight ticket compliance in Detroit using `train.csv`. Using this model, return a series of length 61001 with the data being the probability that each corresponding ticket from `test.csv` will be paid, and the index being the ticket_id.\n",
    "\n",
    "Example:\n",
    "\n",
    "    ticket_id\n",
    "       284932    0.531842\n",
    "       285362    0.401958\n",
    "       285361    0.105928\n",
    "       285338    0.018572\n",
    "                 ...\n",
    "       376499    0.208567\n",
    "       376500    0.818759\n",
    "       369851    0.018528\n",
    "       Name: compliance, dtype: float32"
   ]
  },
  {
   "cell_type": "code",
   "execution_count": 591,
   "metadata": {},
   "outputs": [
    {
     "name": "stderr",
     "output_type": "stream",
     "text": [
      "/anaconda3/lib/python3.7/site-packages/IPython/core/interactiveshell.py:3220: DtypeWarning: Columns (11,12,31) have mixed types. Specify dtype option on import or set low_memory=False.\n",
      "  if (yield from self.run_code(code, result)):\n"
     ]
    },
    {
     "name": "stdout",
     "output_type": "stream",
     "text": [
      "ticket_id\n",
      "284932    0.145435\n",
      "285362    0.053871\n",
      "285361    0.135225\n",
      "285338    0.163994\n",
      "285346    0.154824\n",
      "285345    0.171171\n",
      "285347    0.185702\n",
      "285342    0.784041\n",
      "285530    0.053442\n",
      "284989    0.108673\n",
      "285344    0.186340\n",
      "285343    0.081581\n",
      "285340    0.055599\n",
      "285341    0.186611\n",
      "285349    0.142690\n",
      "285348    0.149414\n",
      "284991    0.103724\n",
      "285532    0.114620\n",
      "285406    0.112528\n",
      "285001    0.128658\n",
      "285006    0.072013\n",
      "285405    0.039612\n",
      "285337    0.108210\n",
      "285496    0.160152\n",
      "285497    0.149339\n",
      "285378    0.062249\n",
      "285589    0.107738\n",
      "285585    0.150361\n",
      "285501    0.125006\n",
      "285581    0.046871\n",
      "            ...   \n",
      "376367    0.059190\n",
      "376366    0.104801\n",
      "376362    0.104801\n",
      "376363    0.119277\n",
      "376365    0.059190\n",
      "376364    0.104801\n",
      "376228    0.133548\n",
      "376265    0.112366\n",
      "376286    0.748704\n",
      "376320    0.105810\n",
      "376314    0.105235\n",
      "376327    0.738766\n",
      "376385    0.749388\n",
      "376435    0.737936\n",
      "376370    0.758613\n",
      "376434    0.182424\n",
      "376459    0.212689\n",
      "376478    0.081376\n",
      "376473    0.106687\n",
      "376484    0.112916\n",
      "376482    0.103316\n",
      "376480    0.098548\n",
      "376479    0.098548\n",
      "376481    0.098548\n",
      "376483    0.092184\n",
      "376496    0.063272\n",
      "376497    0.063272\n",
      "376499    0.147096\n",
      "376500    0.145205\n",
      "369851    0.821662\n",
      "Name: predictions, Length: 61001, dtype: float64\n"
     ]
    },
    {
     "name": "stderr",
     "output_type": "stream",
     "text": [
      "/anaconda3/lib/python3.7/site-packages/ipykernel_launcher.py:94: SettingWithCopyWarning: \n",
      "A value is trying to be set on a copy of a slice from a DataFrame.\n",
      "Try using .loc[row_indexer,col_indexer] = value instead\n",
      "\n",
      "See the caveats in the documentation: http://pandas.pydata.org/pandas-docs/stable/indexing.html#indexing-view-versus-copy\n"
     ]
    }
   ],
   "source": [
    "def blight_model():\n",
    "    \n",
    "    # import libraries from scikit learn\n",
    "    import pandas as pd\n",
    "    import numpy as np\n",
    "    from sklearn.model_selection import train_test_split\n",
    "    from sklearn.tree import DecisionTreeClassifier\n",
    "    from sklearn.ensemble import RandomForestClassifier\n",
    "    \n",
    "    #load training, test, and location data\n",
    "    data_train = pd.read_csv('train.csv', encoding = \"ISO-8859-1\")\n",
    "    data_test = pd.read_csv('test.csv')\n",
    "    data_address = pd.read_csv('addresses.csv')\n",
    "    data_latlong = pd.read_csv('latlons.csv')\n",
    "    \n",
    "    # convert data to type\n",
    "    data_train['city'] = data_train['city'].astype(str)\n",
    "    data_test['city'] = data_test['city'].astype(str)\n",
    "\n",
    "    data_train['violation_street_name'] = data_train['violation_street_name'].astype(str)\n",
    "    data_test['violation_street_name'] = data_test['violation_street_name'].astype(str)\n",
    "\n",
    "    data_train['zip_code'] = data_train['zip_code'].astype(str)\n",
    "    data_test['zip_code'] = data_test['zip_code'].astype(str)\n",
    "\n",
    "    data_train['violator_name'] = data_train['violator_name'].astype(str)\n",
    "    data_test['violator_name'] = data_test['violator_name'].astype(str)\n",
    "\n",
    "\n",
    "    data_train['violation_zip_code'] = data_train['violation_zip_code'].astype(str)\n",
    "    data_test['violation_zip_code'] = data_test['violation_zip_code'].astype(str)\n",
    "    \n",
    "    \n",
    "    #create boolean features from floats\n",
    "    data_test['late_fee_bool'] = np.where(data_test['late_fee']>0,1,0)\n",
    "    data_train['late_fee_bool'] = np.where(data_train['late_fee']>0,1,0)\n",
    "\n",
    "    data_test['discount_amount_bool'] = np.where(data_test['discount_amount']>0,1,0)\n",
    "    data_train['discount_amount_bool'] = np.where(data_train['discount_amount']>0,1,0)\n",
    "\n",
    "    data_test['street_name_bool'] = np.where(\n",
    "    data_test['mailing_address_str_name'] == data_test['violation_street_name']\n",
    "    ,1,0)\n",
    "\n",
    "    data_train['street_name_bool'] = np.where(\n",
    "    data_train['mailing_address_str_name'] == data_train['violation_street_name']\n",
    "    ,1,0)\n",
    "\n",
    "    data_test['zip_code_bool'] = np.where(\n",
    "    data_test['violation_zip_code'] == data_test['zip_code']\n",
    "    ,1,0)\n",
    "\n",
    "    data_train['zip_code_bool'] = np.where(\n",
    "    data_train['violation_zip_code'] == data_train['zip_code']\n",
    "    ,1,0)\n",
    "\n",
    "    \n",
    "    #set features to use in model\n",
    "    starting_features = ['agency_name', 'inspector_name', 'violation_code', 'late_fee_bool', 'discount_amount_bool',\n",
    "                         'judgment_amount', 'zip_code', 'disposition', 'violation_zip_code', 'zip_code_bool',\n",
    "                         'late_fee','fine_amount','admin_fee','state_fee']\n",
    "    \n",
    "    #drop NAN from dataset for compliance\n",
    "    data_train = data_train[np.isfinite(data_train['compliance'])]\n",
    "    \n",
    "    #Split training data into target y and feature x datasets. Split into train and test groups.\n",
    "    data_train_y = data_train['compliance']\n",
    "    data_train_X = data_train[starting_features]\n",
    "    X_train, X_test, y_train, y_test = train_test_split(data_train_X, data_train_y, random_state=0)\n",
    "    \n",
    "    #encode training and test data\n",
    "    from sklearn.preprocessing import LabelEncoder\n",
    "    le = LabelEncoder() # encoder to do label encoder\n",
    "    X_train_t = X_train.apply(lambda x: le.fit_transform(x))\n",
    "    X_test_t = X_test.apply(lambda x: le.fit_transform(x))\n",
    "    \n",
    "    #fit model\n",
    "    rf_model = RandomForestClassifier(n_estimators=100, max_depth=8, random_state = 0)\n",
    "    rf_model = rf_model.fit(X_train_t, y_train)\n",
    "    \n",
    "    #prepare test data to be scored\n",
    "    data_test = data_test.set_index('ticket_id')\n",
    "    data_test_features = data_test[starting_features]\n",
    "    data_test_features_t = data_test_features.apply(lambda x: le.fit_transform(x))\n",
    "    \n",
    "    #predict probabilities for test data\n",
    "    predictions = rf_model.predict_proba(data_test_features_t)\n",
    "    \n",
    "    #get probabilities for positive class\n",
    "    prediction_pos = predictions[:,1]\n",
    "    \n",
    "    #add data to the dataframe\n",
    "    data_test_scored = data_test_features\n",
    "    data_test_scored ['predictions'] = prediction_pos\n",
    "    \n",
    "    #produce series answer\n",
    "    answer = data_test_scored['predictions']\n",
    "    \n",
    "    return answer\n",
    "\n",
    "print(blight_model())"
   ]
  },
  {
   "cell_type": "code",
   "execution_count": 82,
   "metadata": {},
   "outputs": [],
   "source": [
    "#Notes for next steps\n",
    "# 1. Convert everything to category and try more features(https://stackoverflow.com/questions/46406720/labelencoder-typeerror-not-supported-between-instances-of-float-and-str?rq=1)\n",
    "# 2. Convert \"late fee\" to Binary Variable\n",
    "# 3. Determine whether floats / integers should be left as such or if it doesn't matter\n",
    "# 4. Try to do binning for floats variables (e.g. judgement amount)\n",
    "# 5. Map Address to Lat Long\n",
    "# 6. Do clean-up on names to make sure they're consistent\n",
    "# 7. Check if mailing address is the same as street address"
   ]
  },
  {
   "cell_type": "code",
   "execution_count": 389,
   "metadata": {},
   "outputs": [
    {
     "name": "stderr",
     "output_type": "stream",
     "text": [
      "/anaconda3/lib/python3.7/site-packages/IPython/core/interactiveshell.py:3049: DtypeWarning: Columns (11,12,31) have mixed types. Specify dtype option on import or set low_memory=False.\n",
      "  interactivity=interactivity, compiler=compiler, result=result)\n"
     ]
    }
   ],
   "source": [
    "import pandas as pd\n",
    "import numpy as np\n",
    "\n",
    "data_train = pd.read_csv('train.csv', encoding = \"ISO-8859-1\")\n",
    "data_test = pd.read_csv('test.csv',encoding = \"ISO-8859-1\")\n",
    "data_address = pd.read_csv('addresses.csv')\n",
    "data_latlong = pd.read_csv('latlons.csv')"
   ]
  },
  {
   "cell_type": "code",
   "execution_count": 390,
   "metadata": {},
   "outputs": [],
   "source": [
    "# convert data to type\n",
    "data_train['city'] = data_train['city'].astype(str)\n",
    "data_test['city'] = data_test['city'].astype(str)\n",
    "\n",
    "data_train['violation_street_name'] = data_train['violation_street_name'].astype(str)\n",
    "data_test['violation_street_name'] = data_test['violation_street_name'].astype(str)\n",
    "\n",
    "data_train['zip_code'] = data_train['zip_code'].astype(str)\n",
    "data_test['zip_code'] = data_test['zip_code'].astype(str)\n",
    "\n",
    "data_train['violator_name'] = data_train['violator_name'].astype(str)\n",
    "data_test['violator_name'] = data_test['violator_name'].astype(str)\n",
    "\n",
    "\n",
    "data_train['violation_zip_code'] = data_train['violation_zip_code'].astype(str)\n",
    "data_test['violation_zip_code'] = data_test['violation_zip_code'].astype(str)\n"
   ]
  },
  {
   "cell_type": "code",
   "execution_count": 391,
   "metadata": {},
   "outputs": [],
   "source": [
    "# add new features as new columns in dataframe"
   ]
  },
  {
   "cell_type": "code",
   "execution_count": 392,
   "metadata": {},
   "outputs": [
    {
     "data": {
      "text/plain": [
       "Index(['ticket_id', 'agency_name', 'inspector_name', 'violator_name',\n",
       "       'violation_street_number', 'violation_street_name',\n",
       "       'violation_zip_code', 'mailing_address_str_number',\n",
       "       'mailing_address_str_name', 'city', 'state', 'zip_code',\n",
       "       'non_us_str_code', 'country', 'ticket_issued_date', 'hearing_date',\n",
       "       'violation_code', 'violation_description', 'disposition', 'fine_amount',\n",
       "       'admin_fee', 'state_fee', 'late_fee', 'discount_amount',\n",
       "       'clean_up_cost', 'judgment_amount', 'grafitti_status'],\n",
       "      dtype='object')"
      ]
     },
     "execution_count": 392,
     "metadata": {},
     "output_type": "execute_result"
    }
   ],
   "source": [
    "data_test.columns"
   ]
  },
  {
   "cell_type": "code",
   "execution_count": 393,
   "metadata": {},
   "outputs": [
    {
     "name": "stdout",
     "output_type": "stream",
     "text": [
      "8609\n"
     ]
    }
   ],
   "source": [
    "#data_test['discount_amount'].unique()\n",
    "#data_test['late_fee'].where(data_test['late_fee']==0)\n",
    "\n",
    "data_test['late_fee_bool'] = np.where(data_test['late_fee']>0,1,0)\n",
    "data_train['late_fee_bool'] = np.where(data_train['late_fee']>0,1,0)\n",
    "\n",
    "data_test['discount_amount_bool'] = np.where(data_test['discount_amount']>0,1,0)\n",
    "data_train['discount_amount_bool'] = np.where(data_train['discount_amount']>0,1,0)\n",
    "\n",
    "data_test['street_name_bool'] = np.where(\n",
    "    data_test['mailing_address_str_name'] == data_test['violation_street_name']\n",
    "    ,1,0)\n",
    "\n",
    "data_train['street_name_bool'] = np.where(\n",
    "    data_train['mailing_address_str_name'] == data_train['violation_street_name']\n",
    "    ,1,0)\n",
    "\n",
    "data_test['zip_code_bool'] = np.where(\n",
    "    data_test['violation_zip_code'] == data_test['zip_code']\n",
    "    ,1,0)\n",
    "\n",
    "data_train['zip_code_bool'] = np.where(\n",
    "    data_train['violation_zip_code'] == data_train['zip_code']\n",
    "    ,1,0)\n",
    "\n",
    "\n",
    "count=0\n",
    "\n",
    "for i in range(0,len(data_test['mailing_address_str_name'])):\n",
    "    if data_test['violation_zip_code'][i] == data_test['zip_code'][i]:\n",
    "        count+=1\n",
    "print(count)\n",
    "\n",
    "#print(data_test['mailing_address_str_name'][1],data_test['violation_street_name'][1])\n",
    "\n",
    "#(data_test['mailing_address_str_name'][i] == data_test['violation_street_name'][i]) &"
   ]
  },
  {
   "cell_type": "code",
   "execution_count": 464,
   "metadata": {},
   "outputs": [],
   "source": [
    "#import matplotlib.pyplot as plt\n",
    "\n",
    "#data_test['judgment_amount'].unique\n",
    "\n",
    "#plt.hist(data_test['judgment_amount'],30, range=(0,2000))\n",
    "\n",
    "#plt.figure()\n",
    "#plt.scatter(data_test['judgment_amount'].index,data_test['judgment_amount'])"
   ]
  },
  {
   "cell_type": "code",
   "execution_count": 592,
   "metadata": {},
   "outputs": [],
   "source": [
    "starting_features = ['agency_name', 'inspector_name', 'violation_code', 'late_fee_bool', 'discount_amount_bool',\n",
    "            'judgment_amount', 'zip_code', 'disposition', 'violation_zip_code',\n",
    "                    'late_fee','fine_amount','admin_fee','state_fee']\n",
    "\n",
    "        \n",
    "#starting_features=[ 'late_fee','fine_amount','admin_fee','state_fee','judgment_amount','discount_amount']\n",
    "#categorical_features = ['agency_name', 'inspector_name','violation_description']\n",
    "#type(starting_features)"
   ]
  },
  {
   "cell_type": "code",
   "execution_count": 593,
   "metadata": {},
   "outputs": [],
   "source": [
    "#drop NAN from dataset\n",
    "data_train = data_train[np.isfinite(data_train['compliance'])]"
   ]
  },
  {
   "cell_type": "code",
   "execution_count": 594,
   "metadata": {},
   "outputs": [],
   "source": [
    "#training data split\n",
    "data_train_y = data_train['compliance']\n",
    "data_train_X = data_train[starting_features]\n",
    "X_train, X_test, y_train, y_test = train_test_split(data_train_X, data_train_y, random_state=0, test_size=0.2)"
   ]
  },
  {
   "cell_type": "code",
   "execution_count": 595,
   "metadata": {},
   "outputs": [
    {
     "name": "stdout",
     "output_type": "stream",
     "text": [
      "127904 31976 127904 31976\n"
     ]
    }
   ],
   "source": [
    "print(len(X_train),len(X_test),len(y_train),len(y_test))"
   ]
  },
  {
   "cell_type": "code",
   "execution_count": 596,
   "metadata": {},
   "outputs": [],
   "source": [
    "#agency_name_values = X_train['agency_name'].values\n",
    "#inspector_name_values = X_train['inspector_name'].values\n",
    "#print(X_train.columns)\n",
    "#print(agency_name_values)\n",
    "#print(inspector_name_values)"
   ]
  },
  {
   "cell_type": "code",
   "execution_count": 597,
   "metadata": {
    "scrolled": true
   },
   "outputs": [
    {
     "name": "stdout",
     "output_type": "stream",
     "text": [
      "agency_name 13\n",
      "inspector_name 13\n",
      "violation_code 13\n",
      "late_fee_bool 13\n",
      "discount_amount_bool 13\n",
      "judgment_amount 13\n",
      "zip_code 13\n",
      "disposition 13\n",
      "violation_zip_code 13\n",
      "late_fee 13\n",
      "fine_amount 13\n",
      "admin_fee 13\n",
      "state_fee 13\n"
     ]
    }
   ],
   "source": [
    "for i in X_train.columns:\n",
    "    print(i, len(X_train.columns))"
   ]
  },
  {
   "cell_type": "code",
   "execution_count": 598,
   "metadata": {},
   "outputs": [],
   "source": [
    "from sklearn.preprocessing import LabelEncoder\n",
    "\n",
    "#encode training data\n",
    "le = LabelEncoder() # encoder to do label encoder\n",
    "X_train_t = X_train.apply(lambda x: le.fit_transform(x))\n",
    "X_test_t = X_test.apply(lambda x: le.fit_transform(x))"
   ]
  },
  {
   "cell_type": "code",
   "execution_count": 599,
   "metadata": {},
   "outputs": [
    {
     "data": {
      "text/html": [
       "<div>\n",
       "<style scoped>\n",
       "    .dataframe tbody tr th:only-of-type {\n",
       "        vertical-align: middle;\n",
       "    }\n",
       "\n",
       "    .dataframe tbody tr th {\n",
       "        vertical-align: top;\n",
       "    }\n",
       "\n",
       "    .dataframe thead th {\n",
       "        text-align: right;\n",
       "    }\n",
       "</style>\n",
       "<table border=\"1\" class=\"dataframe\">\n",
       "  <thead>\n",
       "    <tr style=\"text-align: right;\">\n",
       "      <th></th>\n",
       "      <th>agency_name</th>\n",
       "      <th>inspector_name</th>\n",
       "      <th>violation_code</th>\n",
       "      <th>late_fee_bool</th>\n",
       "      <th>discount_amount_bool</th>\n",
       "      <th>judgment_amount</th>\n",
       "      <th>zip_code</th>\n",
       "      <th>disposition</th>\n",
       "      <th>violation_zip_code</th>\n",
       "      <th>late_fee</th>\n",
       "      <th>fine_amount</th>\n",
       "      <th>admin_fee</th>\n",
       "      <th>state_fee</th>\n",
       "    </tr>\n",
       "  </thead>\n",
       "  <tbody>\n",
       "    <tr>\n",
       "      <th>248437</th>\n",
       "      <td>0</td>\n",
       "      <td>59</td>\n",
       "      <td>101</td>\n",
       "      <td>1</td>\n",
       "      <td>0</td>\n",
       "      <td>22</td>\n",
       "      <td>749</td>\n",
       "      <td>2</td>\n",
       "      <td>0</td>\n",
       "      <td>12</td>\n",
       "      <td>13</td>\n",
       "      <td>0</td>\n",
       "      <td>0</td>\n",
       "    </tr>\n",
       "    <tr>\n",
       "      <th>113965</th>\n",
       "      <td>0</td>\n",
       "      <td>30</td>\n",
       "      <td>117</td>\n",
       "      <td>1</td>\n",
       "      <td>0</td>\n",
       "      <td>14</td>\n",
       "      <td>758</td>\n",
       "      <td>2</td>\n",
       "      <td>0</td>\n",
       "      <td>7</td>\n",
       "      <td>8</td>\n",
       "      <td>0</td>\n",
       "      <td>0</td>\n",
       "    </tr>\n",
       "    <tr>\n",
       "      <th>150096</th>\n",
       "      <td>0</td>\n",
       "      <td>49</td>\n",
       "      <td>69</td>\n",
       "      <td>0</td>\n",
       "      <td>0</td>\n",
       "      <td>1</td>\n",
       "      <td>793</td>\n",
       "      <td>1</td>\n",
       "      <td>0</td>\n",
       "      <td>0</td>\n",
       "      <td>1</td>\n",
       "      <td>0</td>\n",
       "      <td>0</td>\n",
       "    </tr>\n",
       "    <tr>\n",
       "      <th>84976</th>\n",
       "      <td>0</td>\n",
       "      <td>119</td>\n",
       "      <td>117</td>\n",
       "      <td>1</td>\n",
       "      <td>0</td>\n",
       "      <td>14</td>\n",
       "      <td>727</td>\n",
       "      <td>2</td>\n",
       "      <td>0</td>\n",
       "      <td>7</td>\n",
       "      <td>8</td>\n",
       "      <td>0</td>\n",
       "      <td>0</td>\n",
       "    </tr>\n",
       "    <tr>\n",
       "      <th>3805</th>\n",
       "      <td>0</td>\n",
       "      <td>113</td>\n",
       "      <td>97</td>\n",
       "      <td>1</td>\n",
       "      <td>0</td>\n",
       "      <td>14</td>\n",
       "      <td>741</td>\n",
       "      <td>2</td>\n",
       "      <td>0</td>\n",
       "      <td>7</td>\n",
       "      <td>8</td>\n",
       "      <td>0</td>\n",
       "      <td>0</td>\n",
       "    </tr>\n",
       "  </tbody>\n",
       "</table>\n",
       "</div>"
      ],
      "text/plain": [
       "        agency_name  inspector_name  violation_code  late_fee_bool  \\\n",
       "248437            0              59             101              1   \n",
       "113965            0              30             117              1   \n",
       "150096            0              49              69              0   \n",
       "84976             0             119             117              1   \n",
       "3805              0             113              97              1   \n",
       "\n",
       "        discount_amount_bool  judgment_amount  zip_code  disposition  \\\n",
       "248437                     0               22       749            2   \n",
       "113965                     0               14       758            2   \n",
       "150096                     0                1       793            1   \n",
       "84976                      0               14       727            2   \n",
       "3805                       0               14       741            2   \n",
       "\n",
       "        violation_zip_code  late_fee  fine_amount  admin_fee  state_fee  \n",
       "248437                   0        12           13          0          0  \n",
       "113965                   0         7            8          0          0  \n",
       "150096                   0         0            1          0          0  \n",
       "84976                    0         7            8          0          0  \n",
       "3805                     0         7            8          0          0  "
      ]
     },
     "execution_count": 599,
     "metadata": {},
     "output_type": "execute_result"
    }
   ],
   "source": [
    "X_test_t.head()"
   ]
  },
  {
   "cell_type": "code",
   "execution_count": 610,
   "metadata": {},
   "outputs": [],
   "source": [
    "#fit model\n",
    "from sklearn.ensemble import RandomForestClassifier\n",
    "rf_model = RandomForestClassifier(n_estimators=100, max_depth=5, random_state = 0)\n",
    "rf_model = rf_model.fit(X_train_t, y_train)"
   ]
  },
  {
   "cell_type": "code",
   "execution_count": 611,
   "metadata": {},
   "outputs": [
    {
     "name": "stdout",
     "output_type": "stream",
     "text": [
      "0.9442316112084063\n",
      "0.9310733049787341\n"
     ]
    }
   ],
   "source": [
    "print(rf_model.score(X_train_t,y_train))\n",
    "print(rf_model.score(X_test_t,y_test))"
   ]
  },
  {
   "cell_type": "code",
   "execution_count": 612,
   "metadata": {},
   "outputs": [],
   "source": [
    "#encode test data\n",
    "data_test_features = data_test[starting_features]\n",
    "data_test_features_t = data_test_features.apply(lambda x: le.fit_transform(x))"
   ]
  },
  {
   "cell_type": "code",
   "execution_count": 613,
   "metadata": {},
   "outputs": [
    {
     "name": "stdout",
     "output_type": "stream",
     "text": [
      "<class 'numpy.ndarray'> 61001\n"
     ]
    }
   ],
   "source": [
    "predictions = rf_model.predict_proba(data_test_features_t)\n",
    "print(type(predictions),len(predictions))"
   ]
  },
  {
   "cell_type": "code",
   "execution_count": 614,
   "metadata": {},
   "outputs": [],
   "source": [
    "prediction_pos = predictions[:,1]"
   ]
  },
  {
   "cell_type": "code",
   "execution_count": 615,
   "metadata": {},
   "outputs": [
    {
     "name": "stderr",
     "output_type": "stream",
     "text": [
      "/anaconda3/lib/python3.7/site-packages/ipykernel_launcher.py:2: SettingWithCopyWarning: \n",
      "A value is trying to be set on a copy of a slice from a DataFrame.\n",
      "Try using .loc[row_indexer,col_indexer] = value instead\n",
      "\n",
      "See the caveats in the documentation: http://pandas.pydata.org/pandas-docs/stable/indexing.html#indexing-view-versus-copy\n",
      "  \n"
     ]
    }
   ],
   "source": [
    "data_test_scored = data_test_features\n",
    "data_test_scored ['predictions'] = prediction_pos"
   ]
  },
  {
   "cell_type": "code",
   "execution_count": 616,
   "metadata": {},
   "outputs": [],
   "source": [
    "answer = data_test_scored['predictions']"
   ]
  },
  {
   "cell_type": "code",
   "execution_count": 617,
   "metadata": {},
   "outputs": [
    {
     "data": {
      "text/plain": [
       "array([0.10490992, 0.06351879, 0.12732046, ..., 0.06359757, 0.08157437,\n",
       "       0.04687968])"
      ]
     },
     "execution_count": 617,
     "metadata": {},
     "output_type": "execute_result"
    }
   ],
   "source": [
    "pd.unique(answer)"
   ]
  },
  {
   "cell_type": "code",
   "execution_count": 618,
   "metadata": {},
   "outputs": [],
   "source": [
    "from sklearn.metrics import roc_curve, auc\n",
    "y_predict_rf = rf_model.predict_proba(X_test_t)[:,1]\n",
    "fpr_rf, tpr_rf, _ = roc_curve(y_test, y_predict_rf)\n",
    "roc_auc_rf = auc(fpr_rf, tpr_rf)"
   ]
  },
  {
   "cell_type": "code",
   "execution_count": 619,
   "metadata": {},
   "outputs": [
    {
     "data": {
      "text/plain": [
       "0.7837596725751897"
      ]
     },
     "execution_count": 619,
     "metadata": {},
     "output_type": "execute_result"
    }
   ],
   "source": [
    "roc_auc_rf"
   ]
  },
  {
   "cell_type": "code",
   "execution_count": null,
   "metadata": {},
   "outputs": [],
   "source": []
  }
 ],
 "metadata": {
  "coursera": {
   "course_slug": "python-machine-learning",
   "graded_item_id": "nNS8l",
   "launcher_item_id": "yWWk7",
   "part_id": "w8BSS"
  },
  "kernelspec": {
   "display_name": "Python 3",
   "language": "python",
   "name": "python3"
  },
  "language_info": {
   "codemirror_mode": {
    "name": "ipython",
    "version": 3
   },
   "file_extension": ".py",
   "mimetype": "text/x-python",
   "name": "python",
   "nbconvert_exporter": "python",
   "pygments_lexer": "ipython3",
   "version": "3.7.3"
  }
 },
 "nbformat": 4,
 "nbformat_minor": 2
}
